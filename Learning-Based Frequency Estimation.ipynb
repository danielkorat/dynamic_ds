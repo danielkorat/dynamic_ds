{
 "cells": [
  {
   "cell_type": "markdown",
   "metadata": {
    "colab_type": "text",
    "id": "view-in-github"
   },
   "source": [
    "<a href=\"https://colab.research.google.com/github/danielkorat/dynamic_ds/blob/main/Playground.ipynb\" target=\"_parent\"><img src=\"https://colab.research.google.com/assets/colab-badge.svg\" alt=\"Open In Colab\"/></a>"
   ]
  },
  {
   "cell_type": "code",
   "execution_count": 1,
   "metadata": {
    "id": "XnB6duFc-kaT"
   },
   "outputs": [],
   "source": [
    "import pandas as pd\n",
    "import matplotlib.pyplot as plt\n",
    "from datasets import load_dataset\n",
    "from tqdm import tqdm\n",
    "from collections import defaultdict\n",
    "from numpy import log\n",
    "import numpy as np\n",
    "from os.path import isfile\n",
    "\n",
    "from nlp.dataset import plot_frequencies, plot_roc, save_ngram_counts, DS_KWARGS\n",
    "from nlp.model import train_simple_model\n",
    "from count_min_param import CountMinEvaluation\n",
    "from cutoff_count_min_param import LearnedCountMinEvaluation\n",
    "from plotting.plot_loss_vs_space import PlotLossVsSpace\n",
    "from torch.optim import Adam\n",
    "\n",
    "from IPython.display import Image\n",
    "from IPython.core.display import HTML "
   ]
  },
  {
   "cell_type": "code",
   "execution_count": 2,
   "metadata": {},
   "outputs": [],
   "source": [
    "DS_NAME = 'wikicorpus'\n",
    "LIMIT_PROP = 0.03\n",
    "prec = LIMIT_PROP * 100\n",
    "\n",
    "DS_ITEM_COUNTS_PATH = f\"nlp/data/{prec}%_wikicorpus_2-grams.npz\"\n",
    "\n",
    "config={\n",
    "        'ds_name': 'wikicorpus',\n",
    "        'embed_type': 'Glove',\n",
    "        'embed_dim': 50,\n",
    "        'op': 'concat',\n",
    "        'n': 2,\n",
    "        \"limit_prop\": 0.03,\n",
    "        'num_workers': 22,\n",
    "        \"hidden_dim\": 64,\n",
    "        \"dropout_prob\": 0.0,\n",
    "        \"optim\": Adam,\n",
    "        \"learning_rate\": 0.001,\n",
    "        \"batch_size\": 128\n",
    "        }"
   ]
  },
  {
   "cell_type": "code",
   "execution_count": 3,
   "metadata": {},
   "outputs": [],
   "source": [
    "### Get bigrams for wikicorpus. we only used 3% of the data as dataset is huge\n",
    "\n",
    "if not isfile(DS_ITEM_COUNTS_PATH):\n",
    "    save_ngram_counts(cache=DS_ITEM_COUNTS_PATH, config=config, **DS_KWARGS[DS_NAME]);"
   ]
  },
  {
   "cell_type": "markdown",
   "metadata": {},
   "source": [
    "# Actual Bigrams Frequency"
   ]
  },
  {
   "cell_type": "code",
   "execution_count": 4,
   "metadata": {},
   "outputs": [
    {
     "name": "stdout",
     "output_type": "stream",
     "text": [
      "there are 1146052 bigrams\n"
     ]
    },
    {
     "data": {
      "image/png": "[encoded data removed]",
      "text/plain": [
       "<Figure size 432x288 with 1 Axes>"
      ]
     },
     "metadata": {},
     "output_type": "display_data"
    }
   ],
   "source": [
    "counts = np.load(DS_ITEM_COUNTS_PATH)['y']\n",
    "print(f'there are {len(counts)} bigrams')\n",
    "plot_frequencies(counts, 'rank (log scale)', 'counts (log scale)', 'frequencies')"
   ]
  },
  {
   "cell_type": "code",
   "execution_count": 5,
   "metadata": {},
   "outputs": [
    {
     "name": "stdout",
     "output_type": "stream",
     "text": [
      "Top 5 frequent bigrams and their counts:\n",
      "[('100 females', 1954), ('65 years', 1982), ('0 till', 1985), ('median income', 2885), ('external links', 16118)]\n",
      "Bottom 5 frequent bigrams and their counts:\n",
      "[('purely sacerdotal', 1), ('vehicle shall', 1), ('vehicle insignia', 1), ('vehicle trade', 1), ('vehicle proved', 1)]\n"
     ]
    }
   ],
   "source": [
    "indices = np.argsort(counts)\n",
    "bigrams = np.load(DS_ITEM_COUNTS_PATH)['x']\n",
    "\n",
    "print('Top 5 frequent bigrams and their counts:')\n",
    "print(list(zip(bigrams[indices[-5:]], counts[indices[-5:]])))\n",
    "\n",
    "print('Bottom 5 frequent bigrams and their counts:')\n",
    "print(list(zip(bigrams[indices[:5]], counts[indices[:5]])))"
   ]
  },
  {
   "cell_type": "markdown",
   "metadata": {},
   "source": [
    "# Evaluate Original Count-Min and Count-Sketch"
   ]
  },
  {
   "cell_type": "code",
   "execution_count": 3,
   "metadata": {},
   "outputs": [],
   "source": [
    "### count sketch ###\n",
    "\n",
    "DATA = DS_ITEM_COUNTS_PATH\n",
    "SAVE ='cmin_wikicorpus' #save_results to path\n",
    "SEED = 69\n",
    "N_HASHES = [1,2,3,4] \n",
    "SPACE_LIST = [0.1,0.2,0.3,0.4,0.5,0.6,0.7,0.8,0.9,1,1.2,1.4,1.6,1.8,2,3,4] #in MB\n",
    "N_WORKERS = 7 #n_processes used \n",
    "DATA_NAME ='wikicorpus' # determines which script for loading counts is used\n",
    "COUNT_SKETCH = True"
   ]
  },
  {
   "cell_type": "code",
   "execution_count": 4,
   "metadata": {},
   "outputs": [
    {
     "name": "stdout",
     "output_type": "stream",
     "text": [
      "statistics for nlp/data/3.0%_wikicorpus_2-grams.npz\n",
      "data #: 1146052, shape (1146052,)\n",
      "positive ratio: 1.72754, max 16118.000000, min 1.000000\n",
      "\n",
      "\n",
      "count_sketch: # hashes 1, # buckets 175000 - loss 5.30\t time: 70.22 sec\n",
      "count_sketch: # hashes 1, # buckets 25000 - loss 20.24\t time: 70.65 sec\n",
      "count_sketch: # hashes 1, # buckets 400000 - loss 2.93\t time: 70.70 sec\n",
      "count_sketch: # hashes 1, # buckets 750000 - loss 1.83\t time: 70.85 sec\n",
      "count_sketch: # hashes 1, # buckets 100000 - loss 7.81\t time: 72.54 sec\n",
      "count_sketch: # hashes 2, # buckets 25000 - loss 18.06\t time: 74.72 sec\n",
      "count_sketch: # hashes 1, # buckets 250000 - loss 4.14\t time: 76.06 sec\n",
      "count_sketch: # hashes 1, # buckets 1000000 - loss 1.52\t time: 69.86 sec\n",
      "count_sketch: # hashes 1, # buckets 50000 - loss 12.60\t time: 71.13 sec\n",
      "count_sketch: # hashes 1, # buckets 450000 - loss 2.79\t time: 71.35 sec\n",
      "count_sketch: # hashes 1, # buckets 200000 - loss 4.84\t time: 72.46 sec\n",
      "count_sketch: # hashes 1, # buckets 300000 - loss 3.66\t time: 67.45 sec\n",
      "count_sketch: # hashes 1, # buckets 125000 - loss 6.72\t time: 71.76 sec\n",
      "count_sketch: # hashes 2, # buckets 37500 - loss 12.59\t time: 76.16 sec\n",
      "count_sketch: # hashes 1, # buckets 75000 - loss 9.69\t time: 68.93 sec\n",
      "count_sketch: # hashes 1, # buckets 225000 - loss 4.45\t time: 68.93 sec\n",
      "count_sketch: # hashes 1, # buckets 350000 - loss 3.33\t time: 70.47 sec\n",
      "count_sketch: # hashes 2, # buckets 12500 - loss 28.26\t time: 73.34 sec\n",
      "count_sketch: # hashes 1, # buckets 150000 - loss 6.25\t time: 70.21 sec\n",
      "count_sketch: # hashes 1, # buckets 500000 - loss 2.51\t time: 77.62 sec\n",
      "count_sketch: # hashes 2, # buckets 50000 - loss 10.31\t time: 75.28 sec\n",
      "count_sketch: # hashes 2, # buckets 100000 - loss 6.22\t time: 73.21 sec\n",
      "count_sketch: # hashes 2, # buckets 62500 - loss 8.82\t time: 77.01 sec\n",
      "count_sketch: # hashes 2, # buckets 225000 - loss 3.63\t time: 75.29 sec\n",
      "count_sketch: # hashes 2, # buckets 150000 - loss 4.75\t time: 75.58 sec\n",
      "count_sketch: # hashes 2, # buckets 500000 - loss 2.05\t time: 75.15 sec\n",
      "count_sketch: # hashes 3, # buckets 25000 - loss 9.71\t time: 84.08 sec\n",
      "count_sketch: # hashes 3, # buckets 50000 - loss 6.03\t time: 79.39 sec\n",
      "count_sketch: # hashes 2, # buckets 112500 - loss 5.82\t time: 72.52 sec\n",
      "count_sketch: # hashes 2, # buckets 75000 - loss 7.79\t time: 75.72 sec\n",
      "count_sketch: # hashes 2, # buckets 175000 - loss 4.29\t time: 74.84 sec\n",
      "count_sketch: # hashes 2, # buckets 250000 - loss 3.31\t time: 76.23 sec\n",
      "count_sketch: # hashes 3, # buckets 8333 - loss 20.91\t time: 80.75 sec\n",
      "count_sketch: # hashes 3, # buckets 33333 - loss 7.94\t time: 81.16 sec\n",
      "count_sketch: # hashes 3, # buckets 58333 - loss 5.37\t time: 84.72 sec\n",
      "count_sketch: # hashes 2, # buckets 125000 - loss 5.40\t time: 75.66 sec\n",
      "count_sketch: # hashes 2, # buckets 87500 - loss 7.05\t time: 74.97 sec\n",
      "count_sketch: # hashes 2, # buckets 200000 - loss 4.08\t time: 75.36 sec\n",
      "count_sketch: # hashes 2, # buckets 375000 - loss 2.73\t time: 75.18 sec\n",
      "count_sketch: # hashes 3, # buckets 16666 - loss 12.77\t time: 80.01 sec\n",
      "count_sketch: # hashes 3, # buckets 41666 - loss 6.75\t time: 79.29 sec\n",
      "count_sketch: # hashes 3, # buckets 66666 - loss 4.89\t time: 78.09 sec\n",
      "count_sketch: # hashes 3, # buckets 75000 - loss 4.49\t time: 78.14 sec\n",
      "count_sketch: # hashes 3, # buckets 166666 - loss 2.53\t time: 77.83 sec\n",
      "count_sketch: # hashes 3, # buckets 116666 - loss 3.31\t time: 83.73 sec\n",
      "count_sketch: # hashes 4, # buckets 6250 - loss 20.23\t time: 83.92 sec\n",
      "count_sketch: # hashes 4, # buckets 25000 - loss 8.15\t time: 83.16 sec\n",
      "count_sketch: # hashes 4, # buckets 43750 - loss 5.88\t time: 83.81 sec\n",
      "count_sketch: # hashes 4, # buckets 62500 - loss 4.27\t time: 83.05 sec\n",
      "count_sketch: # hashes 3, # buckets 83333 - loss 4.16\t time: 78.45 sec\n",
      "count_sketch: # hashes 3, # buckets 250000 - loss 1.87\t time: 80.01 sec\n",
      "count_sketch: # hashes 3, # buckets 133333 - loss 2.96\t time: 83.89 sec\n",
      "count_sketch: # hashes 4, # buckets 12500 - loss 12.85\t time: 83.52 sec\n",
      "count_sketch: # hashes 4, # buckets 31250 - loss 6.88\t time: 86.04 sec\n",
      "count_sketch: # hashes 4, # buckets 50000 - loss 4.99\t time: 83.98 sec\n",
      "count_sketch: # hashes 4, # buckets 75000 - loss 3.75\t time: 83.25 sec\n",
      "count_sketch: # hashes 3, # buckets 100000 - loss 3.68\t time: 77.51 sec\n",
      "count_sketch: # hashes 3, # buckets 333333 - loss 1.52\t time: 80.48 sec\n",
      "count_sketch: # hashes 3, # buckets 150000 - loss 2.72\t time: 78.07 sec\n",
      "count_sketch: # hashes 4, # buckets 18750 - loss 9.84\t time: 83.84 sec\n",
      "count_sketch: # hashes 4, # buckets 37500 - loss 6.11\t time: 80.82 sec\n",
      "count_sketch: # hashes 4, # buckets 56250 - loss 4.61\t time: 82.31 sec\n",
      "count_sketch: # hashes 4, # buckets 87500 - loss 3.33\t time: 87.03 sec\n",
      "count_sketch: # hashes 4, # buckets 100000 - loss 3.04\t time: 80.58 sec\n",
      "count_sketch: # hashes 4, # buckets 187500 - loss 1.93\t time: 78.11 sec\n",
      "count_sketch: # hashes 4, # buckets 112500 - loss 2.80\t time: 77.88 sec\n",
      "count_sketch: # hashes 4, # buckets 250000 - loss 1.57\t time: 78.89 sec\n",
      "count_sketch: # hashes 4, # buckets 125000 - loss 2.60\t time: 75.54 sec\n",
      "/data/home/daniel_nlp/learning-ds/.env/lib/python3.6/site-packages/ipykernel_launcher.py -f /data/home/daniel_nlp/.local/share/jupyter/runtime/kernel-0028a49b-bb02-4fcf-a24b-e176d27bf04a.json\n",
      "==== results ====\n",
      "count_sketch: # hashes 1, # buckets 25000, space 0.10 MB - loss 20.24\n",
      "count_sketch: # hashes 1, # buckets 50000, space 0.20 MB - loss 12.60\n",
      "count_sketch: # hashes 1, # buckets 75000, space 0.30 MB - loss 9.69\n",
      "count_sketch: # hashes 1, # buckets 100000, space 0.40 MB - loss 7.81\n",
      "count_sketch: # hashes 1, # buckets 125000, space 0.50 MB - loss 6.72\n",
      "count_sketch: # hashes 1, # buckets 150000, space 0.60 MB - loss 6.25\n",
      "count_sketch: # hashes 1, # buckets 175000, space 0.70 MB - loss 5.30\n",
      "count_sketch: # hashes 1, # buckets 200000, space 0.80 MB - loss 4.84\n",
      "count_sketch: # hashes 1, # buckets 225000, space 0.90 MB - loss 4.45\n",
      "count_sketch: # hashes 1, # buckets 250000, space 1.00 MB - loss 4.14\n",
      "count_sketch: # hashes 1, # buckets 300000, space 1.20 MB - loss 3.66\n",
      "count_sketch: # hashes 1, # buckets 350000, space 1.40 MB - loss 3.33\n",
      "count_sketch: # hashes 1, # buckets 400000, space 1.60 MB - loss 2.93\n",
      "count_sketch: # hashes 1, # buckets 450000, space 1.80 MB - loss 2.79\n",
      "count_sketch: # hashes 1, # buckets 500000, space 2.00 MB - loss 2.51\n",
      "count_sketch: # hashes 1, # buckets 750000, space 3.00 MB - loss 1.83\n",
      "count_sketch: # hashes 1, # buckets 1000000, space 4.00 MB - loss 1.52\n",
      "count_sketch: # hashes 2, # buckets 12500, space 0.10 MB - loss 28.26\n",
      "count_sketch: # hashes 2, # buckets 25000, space 0.20 MB - loss 18.06\n",
      "count_sketch: # hashes 2, # buckets 37500, space 0.30 MB - loss 12.59\n",
      "count_sketch: # hashes 2, # buckets 50000, space 0.40 MB - loss 10.31\n",
      "count_sketch: # hashes 2, # buckets 62500, space 0.50 MB - loss 8.82\n",
      "count_sketch: # hashes 2, # buckets 75000, space 0.60 MB - loss 7.79\n",
      "count_sketch: # hashes 2, # buckets 87500, space 0.70 MB - loss 7.05\n",
      "count_sketch: # hashes 2, # buckets 100000, space 0.80 MB - loss 6.22\n",
      "count_sketch: # hashes 2, # buckets 112500, space 0.90 MB - loss 5.82\n",
      "count_sketch: # hashes 2, # buckets 125000, space 1.00 MB - loss 5.40\n",
      "count_sketch: # hashes 2, # buckets 150000, space 1.20 MB - loss 4.75\n",
      "count_sketch: # hashes 2, # buckets 175000, space 1.40 MB - loss 4.29\n",
      "count_sketch: # hashes 2, # buckets 200000, space 1.60 MB - loss 4.08\n",
      "count_sketch: # hashes 2, # buckets 225000, space 1.80 MB - loss 3.63\n",
      "count_sketch: # hashes 2, # buckets 250000, space 2.00 MB - loss 3.31\n",
      "count_sketch: # hashes 2, # buckets 375000, space 3.00 MB - loss 2.73\n",
      "count_sketch: # hashes 2, # buckets 500000, space 4.00 MB - loss 2.05\n",
      "count_sketch: # hashes 3, # buckets 8333, space 0.10 MB - loss 20.91\n",
      "count_sketch: # hashes 3, # buckets 16666, space 0.20 MB - loss 12.77\n",
      "count_sketch: # hashes 3, # buckets 25000, space 0.30 MB - loss 9.71\n",
      "count_sketch: # hashes 3, # buckets 33333, space 0.40 MB - loss 7.94\n",
      "count_sketch: # hashes 3, # buckets 41666, space 0.50 MB - loss 6.75\n",
      "count_sketch: # hashes 3, # buckets 50000, space 0.60 MB - loss 6.03\n",
      "count_sketch: # hashes 3, # buckets 58333, space 0.70 MB - loss 5.37\n",
      "count_sketch: # hashes 3, # buckets 66666, space 0.80 MB - loss 4.89\n",
      "count_sketch: # hashes 3, # buckets 75000, space 0.90 MB - loss 4.49\n",
      "count_sketch: # hashes 3, # buckets 83333, space 1.00 MB - loss 4.16\n",
      "count_sketch: # hashes 3, # buckets 100000, space 1.20 MB - loss 3.68\n",
      "count_sketch: # hashes 3, # buckets 116666, space 1.40 MB - loss 3.31\n",
      "count_sketch: # hashes 3, # buckets 133333, space 1.60 MB - loss 2.96\n",
      "count_sketch: # hashes 3, # buckets 150000, space 1.80 MB - loss 2.72\n",
      "count_sketch: # hashes 3, # buckets 166666, space 2.00 MB - loss 2.53\n",
      "count_sketch: # hashes 3, # buckets 250000, space 3.00 MB - loss 1.87\n",
      "count_sketch: # hashes 3, # buckets 333333, space 4.00 MB - loss 1.52\n",
      "count_sketch: # hashes 4, # buckets 6250, space 0.10 MB - loss 20.23\n",
      "count_sketch: # hashes 4, # buckets 12500, space 0.20 MB - loss 12.85\n",
      "count_sketch: # hashes 4, # buckets 18750, space 0.30 MB - loss 9.84\n",
      "count_sketch: # hashes 4, # buckets 25000, space 0.40 MB - loss 8.15\n",
      "count_sketch: # hashes 4, # buckets 31250, space 0.50 MB - loss 6.88\n",
      "count_sketch: # hashes 4, # buckets 37500, space 0.60 MB - loss 6.11\n",
      "count_sketch: # hashes 4, # buckets 43750, space 0.70 MB - loss 5.88\n",
      "count_sketch: # hashes 4, # buckets 50000, space 0.80 MB - loss 4.99\n",
      "count_sketch: # hashes 4, # buckets 56250, space 0.90 MB - loss 4.61\n",
      "count_sketch: # hashes 4, # buckets 62500, space 1.00 MB - loss 4.27\n",
      "count_sketch: # hashes 4, # buckets 75000, space 1.20 MB - loss 3.75\n",
      "count_sketch: # hashes 4, # buckets 87500, space 1.40 MB - loss 3.33\n",
      "count_sketch: # hashes 4, # buckets 100000, space 1.60 MB - loss 3.04\n",
      "count_sketch: # hashes 4, # buckets 112500, space 1.80 MB - loss 2.80\n",
      "count_sketch: # hashes 4, # buckets 125000, space 2.00 MB - loss 2.60\n",
      "count_sketch: # hashes 4, # buckets 187500, space 3.00 MB - loss 1.93\n",
      "count_sketch: # hashes 4, # buckets 250000, space 4.00 MB - loss 1.57\n",
      "total time: 901.51 sec\n",
      "==== best parameters ====\n",
      "space: 0.10, n_buckets 6250, n_hashes 4 - \tloss 20.23\n",
      "space: 0.20, n_buckets 50000, n_hashes 1 - \tloss 12.60\n",
      "space: 0.30, n_buckets 75000, n_hashes 1 - \tloss 9.69\n",
      "space: 0.40, n_buckets 100000, n_hashes 1 - \tloss 7.81\n",
      "space: 0.50, n_buckets 125000, n_hashes 1 - \tloss 6.72\n",
      "space: 0.60, n_buckets 50000, n_hashes 3 - \tloss 6.03\n",
      "space: 0.70, n_buckets 175000, n_hashes 1 - \tloss 5.30\n",
      "space: 0.80, n_buckets 200000, n_hashes 1 - \tloss 4.84\n",
      "space: 0.90, n_buckets 225000, n_hashes 1 - \tloss 4.45\n",
      "space: 1.00, n_buckets 250000, n_hashes 1 - \tloss 4.14\n",
      "space: 1.20, n_buckets 300000, n_hashes 1 - \tloss 3.66\n",
      "space: 1.40, n_buckets 116666, n_hashes 3 - \tloss 3.31\n",
      "space: 1.60, n_buckets 400000, n_hashes 1 - \tloss 2.93\n",
      "space: 1.80, n_buckets 150000, n_hashes 3 - \tloss 2.72\n",
      "space: 2.00, n_buckets 500000, n_hashes 1 - \tloss 2.51\n",
      "space: 3.00, n_buckets 750000, n_hashes 1 - \tloss 1.83\n",
      "space: 4.00, n_buckets 333333, n_hashes 3 - \tloss 1.52\n",
      "total time: 901.51 sec\n",
      "\n"
     ]
    }
   ],
   "source": [
    "cme = CountMinEvaluation(space_list=SPACE_LIST, n_hashes_list=N_HASHES,\n",
    "                        save=SAVE, \n",
    "                        n_workers= N_WORKERS,\n",
    "                        data_name=DATA_NAME,\n",
    "                        data=DATA,\n",
    "                        count_sketch=COUNT_SKETCH,\n",
    "                        seed=SEED)\n",
    "cme.run()"
   ]
  },
  {
   "cell_type": "code",
   "execution_count": null,
   "metadata": {},
   "outputs": [],
   "source": [
    "### count min ###\n",
    "\n",
    "COUNT_SKETCH = False\n",
    "\n",
    "cme = CountMinEvaluation(space_list=SPACE_LIST, n_hashes_list=N_HASHES,\n",
    "                        save=SAVE, \n",
    "                        n_workers= N_WORKERS,\n",
    "                        data_name=DATA_NAME,\n",
    "                        data=DATA,\n",
    "                        count_sketch=COUNT_SKETCH,\n",
    "                        seed=SEED)\n",
    "cme.run()"
   ]
  },
  {
   "cell_type": "markdown",
   "metadata": {},
   "source": [
    "# Train Estimation Model"
   ]
  },
  {
   "cell_type": "markdown",
   "metadata": {},
   "source": [
    "## Model Structure"
   ]
  },
  {
   "cell_type": "markdown",
   "metadata": {},
   "source": [
    "![title](nlp/model.png)"
   ]
  },
  {
   "cell_type": "code",
   "execution_count": null,
   "metadata": {},
   "outputs": [],
   "source": [
    "targets, preds, model_size = train_simple_model(config=config,\n",
    "        args={\n",
    "            'max_epochs': 10\n",
    "            })"
   ]
  },
  {
   "cell_type": "markdown",
   "metadata": {},
   "source": [
    "### Model Size"
   ]
  },
  {
   "cell_type": "code",
   "execution_count": null,
   "metadata": {},
   "outputs": [],
   "source": [
    "print(f'Trained model size is : {model_size} MB')"
   ]
  },
  {
   "cell_type": "code",
   "execution_count": null,
   "metadata": {},
   "outputs": [],
   "source": [
    "plot_roc(targets=targets, preds=preds, split='test', hh_frac=0.01)"
   ]
  },
  {
   "cell_type": "code",
   "execution_count": null,
   "metadata": {},
   "outputs": [],
   "source": [
    "TEST_RESULTS =[f\"./nlp/pred_{prec}%_wikicorpus_2-grams_concat_CharNGram.100.npz\"]\n",
    "VALID_RESULTS = [f\"./nlp/pred_{prec}%_wikicorpus_2-grams_concat_CharNGram.100.npz\"]\n",
    "TEST_DATA = [f\"./nlp/true_{prec}%_wikicorpus_2-grams_concat_CharNGram.100_test.npz\"]\n",
    "VALID_DATA = [f\"./nlp/true_{prec}%_wikicorpus_2-grams_concat_CharNGram.100_valid.npz\"]\n",
    "LOOKUP_DATA = [f\"./nlp/true_{prec}%_wikicorpus_2-grams_concat_CharNGram.100_train.npz\"]\n",
    "SAVE ='cmin_wikicorpus'\n",
    "SEED = 69\n",
    "SPACE_LIST = [0.1, 0.2, 0.3, 0.4, 0.5, 0.6, 0.7, 0.8, 0.9, 1, 1.2, 1.4, 1.6, 1.8, 2, 3, 4]\n",
    "N_HASHES_LIST = [1, 2, 3, 4]\n",
    "PERFECT_ORDER = False\n",
    "N_WORKERS = 7\n",
    "DATA_NAME ='wikicorpus'\n",
    "COUNT_SKETCH = False"
   ]
  },
  {
   "cell_type": "code",
   "execution_count": null,
   "metadata": {},
   "outputs": [],
   "source": [
    "print('Running: no lookup, only using learned model count min...')\n",
    "\n",
    "LOOKUP_DATA2 = None\n",
    "PERFECT_ORDER = False\n",
    "\n",
    "lcm = LearnedCountMinEvaluation(test_results=TEST_RESULTS, \n",
    "                                valid_results=VALID_RESULTS,\n",
    "                                test_data=TEST_DATA, \n",
    "                                valid_data=VALID_DATA,\n",
    "                                lookup_data=LOOKUP_DATA2,\n",
    "                                save=SAVE, \n",
    "                                seed=SEED,\n",
    "                                space_list=SPACE_LIST,\n",
    "                                n_hashes_list=N_HASHES_LIST,\n",
    "                                perfect_order=PERFECT_ORDER,\n",
    "                                n_workers=N_WORKERS, \n",
    "                                data_name=DATA_NAME,\n",
    "                                count_sketch=COUNT_SKETCH\n",
    "                            )\n",
    "lcm.run()"
   ]
  },
  {
   "cell_type": "code",
   "execution_count": null,
   "metadata": {},
   "outputs": [],
   "source": [
    "print('Running: perfect oracle... only using learned model count min...')\n",
    "\n",
    "LOOKUP_DATA3=None\n",
    "PERFECT_ORDER=True\n",
    "\n",
    "lcm = LearnedCountMinEvaluation(test_results=TEST_RESULTS, \n",
    "                                valid_results=VALID_RESULTS,\n",
    "                                test_data=TEST_DATA, \n",
    "                                valid_data=VALID_DATA,\n",
    "                                lookup_data=LOOKUP_DATA3,\n",
    "                                save=SAVE, \n",
    "                                seed=SEED,\n",
    "                                space_list=SPACE_LIST,\n",
    "                                n_hashes_list=N_HASHES_LIST,\n",
    "                                perfect_order=PERFECT_ORDER,\n",
    "                                n_workers=N_WORKERS, \n",
    "                                data_name=DATA_NAME,\n",
    "                                count_sketch=COUNT_SKETCH\n",
    "                            )\n",
    "lcm.run()"
   ]
  },
  {
   "cell_type": "markdown",
   "metadata": {},
   "source": [
    "# Plot Count-Min"
   ]
  },
  {
   "cell_type": "code",
   "execution_count": null,
   "metadata": {},
   "outputs": [],
   "source": [
    "ALGO = 'Count-Min'\n",
    "COUNT_MIN = 'param_results/count_min/cmin_wikicorpus.npz'\n",
    "LEARNED = ['param_results/cutoff_count_min_param/cmin_wikicorpus_test.npz']\n",
    "PERFECT = 'param_results/cutoff_count_min_param_perfect/cmin_wikicorpus_test.npz'\n",
    "LOOKUP_TABLE ='param_results/lookup_table_count_min/cmin_wikicorpus_test.npz' \n",
    "MODEL_NAMES = [\"Learned Count-Min (NNet)\"]\n",
    "TITLE = 'wikicorpus'\n",
    "MODEL_SIZES = [model_size]\n",
    "LOOKUP_SIZE = [0.0035]\n",
    "X_LIM = [0,2]\n",
    "Y_LIM = [0,20]\n",
    "\n",
    "plvs = PlotLossVsSpace(\n",
    "        count_min=COUNT_MIN,\n",
    "        learned_cmin=LEARNED,\n",
    "        model_names=MODEL_NAMES,\n",
    "        perfect_ccm=PERFECT,\n",
    "        lookup_table_ccm=None,\n",
    "        model_sizes=MODEL_SIZES,\n",
    "        lookup_size=LOOKUP_SIZE,\n",
    "        x_lim=X_LIM,\n",
    "        y_lim=Y_LIM,\n",
    "        title=TITLE,\n",
    "        algo=ALGO,\n",
    "    )\n",
    "\n",
    "plvs.run()"
   ]
  },
  {
   "cell_type": "code",
   "execution_count": null,
   "metadata": {},
   "outputs": [],
   "source": [
    "print('Running: no lookup, only using learned model count sketch...')\n",
    "\n",
    "LOOKUP_DATA2 = None\n",
    "PERFECT_ORDER = False\n",
    "\n",
    "lcm = LearnedCountMinEvaluation(test_results=TEST_RESULTS, \n",
    "                                valid_results=VALID_RESULTS,\n",
    "                                test_data=TEST_DATA, \n",
    "                                valid_data=VALID_DATA,\n",
    "                                lookup_data=LOOKUP_DATA2,\n",
    "                                save=SAVE, \n",
    "                                seed=SEED,\n",
    "                                space_list=SPACE_LIST,\n",
    "                                n_hashes_list=N_HASHES_LIST,\n",
    "                                perfect_order=PERFECT_ORDER,\n",
    "                                n_workers=N_WORKERS, \n",
    "                                data_name=DATA_NAME,\n",
    "                                count_sketch=COUNT_SKETCH\n",
    "                            )\n",
    "lcm.run()"
   ]
  },
  {
   "cell_type": "code",
   "execution_count": null,
   "metadata": {},
   "outputs": [],
   "source": [
    "print('Running: perfect oracle... only using learned model count sketch...')\n",
    "\n",
    "LOOKUP_DATA3=None\n",
    "PERFECT_ORDER=True\n",
    "\n",
    "lcm = LearnedCountMinEvaluation(test_results=TEST_RESULTS, \n",
    "                                valid_results=VALID_RESULTS,\n",
    "                                test_data=TEST_DATA, \n",
    "                                valid_data=VALID_DATA,\n",
    "                                lookup_data=LOOKUP_DATA3,\n",
    "                                save=SAVE, \n",
    "                                seed=SEED,\n",
    "                                space_list=SPACE_LIST,\n",
    "                                n_hashes_list=N_HASHES_LIST,\n",
    "                                perfect_order=PERFECT_ORDER,\n",
    "                                n_workers=N_WORKERS, \n",
    "                                data_name=DATA_NAME,\n",
    "                                count_sketch=COUNT_SKETCH\n",
    "                            )\n",
    "lcm.run()"
   ]
  },
  {
   "cell_type": "markdown",
   "metadata": {},
   "source": [
    "# Plot Count-Sketch"
   ]
  },
  {
   "cell_type": "code",
   "execution_count": null,
   "metadata": {},
   "outputs": [],
   "source": [
    "ALGO = 'Count-Sketch'\n",
    "COUNT_MIN = 'param_results/count_sketch/cmin_wikicorpus.npz'\n",
    "LEARNED = ['param_results/cutoff_count_sketch_param/cmin_wikicorpus_test.npz']\n",
    "PERFECT = 'param_results/cutoff_count_sketch_param_perfect/cmin_wikicorpus_test.npz'\n",
    "LOOKUP_TABLE ='param_results/lookup_table_count_sketch/cmin_wikicorpus_test.npz' \n",
    "MODEL_NAMES = [\"Learned Count-Sketch (NNet)\"]\n",
    "TITLE = 'wikicorpus'\n",
    "MODEL_SIZES = [model_size]\n",
    "LOOKUP_SIZE = [0.0035]\n",
    "X_LIM = [0,2]\n",
    "Y_LIM = [0,20]\n",
    "\n",
    "plvs = PlotLossVsSpace(\n",
    "        count_min=COUNT_MIN,\n",
    "        learned_cmin=LEARNED,\n",
    "        model_names=MODEL_NAMES,\n",
    "        perfect_ccm=PERFECT,\n",
    "        lookup_table_ccm=None,\n",
    "        model_sizes=MODEL_SIZES,\n",
    "        lookup_size=LOOKUP_SIZE,\n",
    "        x_lim=X_LIM,\n",
    "        y_lim=Y_LIM,\n",
    "        title=TITLE,\n",
    "        algo=ALGO,\n",
    "    )\n",
    "\n",
    "plvs.run()"
   ]
  },
  {
   "cell_type": "code",
   "execution_count": null,
   "metadata": {},
   "outputs": [],
   "source": [
    "base = 'param_results/'\n",
    "for i, path in enumerate(('count_sketch/cmin_wikicorpus.npz', 'cutoff_count_sketch_param/cmin_wikicorpus_test.npz',\\\n",
    "    'count_min/cmin_wikicorpus.npz', 'cutoff_count_min_param/cmin_wikicorpus_test.npz')):\n",
    "    print(path, '\\n')\n",
    "    csketch = np.load(base + path)\n",
    "    print('space_list\\n', csketch['space_list'])\n",
    "    if i % 2 == 0:\n",
    "        print('loss_all\\n', np.amin(csketch['loss_all'], axis=0), '\\n\\n')\n",
    "    else:\n",
    "        print('loss_all\\n', csketch['loss_all'], '\\n\\n')\n"
   ]
  },
  {
   "cell_type": "code",
   "execution_count": null,
   "metadata": {},
   "outputs": [],
   "source": []
  }
 ],
 "metadata": {
  "colab": {
   "authorship_tag": "ABX9TyO5dSLY7k3VLQQUKe1fagoN",
   "include_colab_link": true,
   "name": "Playground.ipynb",
   "provenance": []
  },
  "kernelspec": {
   "display_name": "learning-ds",
   "language": "python",
   "name": "learning-ds"
  },
  "language_info": {
   "codemirror_mode": {
    "name": "ipython",
    "version": 3
   },
   "file_extension": ".py",
   "mimetype": "text/x-python",
   "name": "python",
   "nbconvert_exporter": "python",
   "pygments_lexer": "ipython3",
   "version": "3.6.8"
  }
 },
 "nbformat": 4,
 "nbformat_minor": 1
}
